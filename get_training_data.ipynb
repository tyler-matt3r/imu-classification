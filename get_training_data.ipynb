{
 "cells": [
  {
   "cell_type": "markdown",
   "metadata": {},
   "source": [
    "# Get Time Series Data From Timestamps"
   ]
  },
  {
   "cell_type": "code",
   "execution_count": 2,
   "metadata": {},
   "outputs": [],
   "source": [
    "import boto3\n",
    "import json\n",
    "import datetime\n",
    "import pandas as pd\n",
    "from io import BytesIO\n",
    "import importlib\n",
    "\n",
    "IMU_BUCKET = 'matt3r-imu-us-west-2'\n",
    "s3_client = boto3.client('s3')"
   ]
  },
  {
   "cell_type": "code",
   "execution_count": 11,
   "metadata": {},
   "outputs": [
    {
     "data": {
      "text/plain": [
       "1690304400.0"
      ]
     },
     "execution_count": 11,
     "metadata": {},
     "output_type": "execute_result"
    }
   ],
   "source": [
    "# find timestamps to use as a test set\n",
    "events = []\n",
    "start_time = datetime.datetime(2023, 7, 25, 17, 0, 0, tzinfo=datetime.timezone.utc).timestamp()\n",
    "for i in range(10):\n",
    "    events.append((start_time + i*120, start_time + i*120 + 5))"
   ]
  },
  {
   "cell_type": "code",
   "execution_count": 13,
   "metadata": {},
   "outputs": [
    {
     "data": {
      "text/plain": [
       "{'2023-07-25_10'}"
      ]
     },
     "execution_count": 13,
     "metadata": {},
     "output_type": "execute_result"
    }
   ],
   "source": [
    "# convert timestamp to date and hour\n",
    "file_names = set()\n",
    "for event in events:\n",
    "    start_timestamp = event[0]\n",
    "    dt_object = datetime.datetime.fromtimestamp(start_timestamp)\n",
    "    file_names.add(dt_object.strftime(\"%Y-%m-%d_%H\"))\n",
    "\n",
    "file_names"
   ]
  }
 ],
 "metadata": {
  "kernelspec": {
   "display_name": "Python 3",
   "language": "python",
   "name": "python3"
  },
  "language_info": {
   "codemirror_mode": {
    "name": "ipython",
    "version": 3
   },
   "file_extension": ".py",
   "mimetype": "text/x-python",
   "name": "python",
   "nbconvert_exporter": "python",
   "pygments_lexer": "ipython3",
   "version": "3.10.6"
  },
  "orig_nbformat": 4
 },
 "nbformat": 4,
 "nbformat_minor": 2
}
