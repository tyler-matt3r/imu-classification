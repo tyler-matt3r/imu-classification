{
 "cells": [
  {
   "cell_type": "code",
   "execution_count": 1,
   "metadata": {},
   "outputs": [],
   "source": [
    "import pickle\n",
    "\n",
    "# Replace 'file_path.pkl' with the actual path to your pickle file\n",
    "file_path = '/home/tyler/Documents/Matt3r/imu-classification/DATA/train_8s_stage3/ambient_turn/0a0a0b1a-27d9fc44_3.pkl'\n",
    "\n",
    "# Open the pickle file in read-binary mode ('rb')\n",
    "with open(file_path, 'rb') as file:\n",
    "    # Load the contents of the pickle file into a Python object\n",
    "    data = pickle.load(file)"
   ]
  },
  {
   "cell_type": "code",
   "execution_count": 3,
   "metadata": {},
   "outputs": [
    {
     "data": {
      "text/plain": [
       "dict_keys(['locations', 'accelerometer', 'gyro', 'metadata', 'label', 'matt3r_format'])"
      ]
     },
     "execution_count": 3,
     "metadata": {},
     "output_type": "execute_result"
    }
   ],
   "source": [
    "data.keys()"
   ]
  }
 ],
 "metadata": {
  "kernelspec": {
   "display_name": "Python 3",
   "language": "python",
   "name": "python3"
  },
  "language_info": {
   "codemirror_mode": {
    "name": "ipython",
    "version": 3
   },
   "file_extension": ".py",
   "mimetype": "text/x-python",
   "name": "python",
   "nbconvert_exporter": "python",
   "pygments_lexer": "ipython3",
   "version": "3.10.12"
  },
  "orig_nbformat": 4
 },
 "nbformat": 4,
 "nbformat_minor": 2
}
